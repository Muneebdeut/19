{
  "nbformat": 4,
  "nbformat_minor": 0,
  "metadata": {
    "colab": {
      "provenance": []
    },
    "kernelspec": {
      "name": "python3",
      "display_name": "Python 3"
    },
    "language_info": {
      "name": "python"
    }
  },
  "cells": [
    {
      "cell_type": "code",
      "execution_count": 7,
      "metadata": {
        "id": "k3Ck2-kjKHND"
      },
      "outputs": [],
      "source": [
        "import pandas as pf\n",
        "data=pf.read_csv(r\"/content/xaNUYz.csv\")"
      ]
    },
    {
      "cell_type": "code",
      "source": [
        "data.columns\n"
      ],
      "metadata": {
        "colab": {
          "base_uri": "https://localhost:8080/"
        },
        "id": "PupoMk5nMNeN",
        "outputId": "5e712df6-142b-457d-9e8f-b174aa1cacc1"
      },
      "execution_count": 6,
      "outputs": [
        {
          "output_type": "execute_result",
          "data": {
            "text/plain": [
              "Index(['passenger_id', 'name', 'age', 'gender', 'destination', 'ticket_price'], dtype='object')"
            ]
          },
          "metadata": {},
          "execution_count": 6
        }
      ]
    },
    {
      "cell_type": "code",
      "source": [
        "total_passengers = len(data)\n",
        "print( total_passengers)"
      ],
      "metadata": {
        "colab": {
          "base_uri": "https://localhost:8080/"
        },
        "id": "ki1EY-RQMVIU",
        "outputId": "db904cee-95c9-476b-c07a-598ef811a988"
      },
      "execution_count": 18,
      "outputs": [
        {
          "output_type": "stream",
          "name": "stdout",
          "text": [
            "50\n"
          ]
        }
      ]
    },
    {
      "cell_type": "code",
      "source": [
        "# Show how many passengers are traveling to each destination\n",
        "passengers_per_destination = data['destination'].value_counts()\n",
        "print(\"\\nPassengers per destination:\")\n",
        "print(passengers_per_destination)"
      ],
      "metadata": {
        "colab": {
          "base_uri": "https://localhost:8080/"
        },
        "id": "CiY8DciqNO61",
        "outputId": "9f134a25-688d-47d8-f095-fa23a1a923cd"
      },
      "execution_count": 20,
      "outputs": [
        {
          "output_type": "stream",
          "name": "stdout",
          "text": [
            "\n",
            "Passengers per destination:\n",
            "destination\n",
            "Lahore       12\n",
            "Quetta       12\n",
            "Karachi      10\n",
            "Islamabad     9\n",
            "Peshawar      7\n",
            "Name: count, dtype: int64\n"
          ]
        }
      ]
    },
    {
      "cell_type": "code",
      "source": [
        "# the average ticket price paid by male and female passengers\n",
        "average_price_by_gender = data.groupby('gender')['ticket_price'].mean()\n",
        "print(\"\\nAverage ticket price by gender:\")\n",
        "print(average_price_by_gender)"
      ],
      "metadata": {
        "colab": {
          "base_uri": "https://localhost:8080/"
        },
        "id": "o77ORLq2OJ11",
        "outputId": "9dd33315-8d18-4a45-d1e9-9dccf21a7bcf"
      },
      "execution_count": 21,
      "outputs": [
        {
          "output_type": "stream",
          "name": "stdout",
          "text": [
            "\n",
            "Average ticket price by gender:\n",
            "gender\n",
            "F    14855.464286\n",
            "M    14581.727273\n",
            "Name: ticket_price, dtype: float64\n"
          ]
        }
      ]
    },
    {
      "cell_type": "code",
      "source": [
        "# Write a function get_passengers_by_destination(dest) that returns a list of names of passengers going to the specified destination\n",
        "def get_passengers_by_destination(dest):\n",
        "  passengers= data[data['destination'] == dest]['name'].tolist()\n",
        "  return passengers\n",
        "\n",
        "def get_highest_paying_passenger():\n",
        "   highest_paying =data.loc[data['ticket_price'].idxmax()]\n",
        "   return highest_paying['name'],highest_paying['destination']\n",
        "\n",
        "print(get_passengers_by_destination('lahore'))\n",
        "print(get_highest_paying_passenger())"
      ],
      "metadata": {
        "colab": {
          "base_uri": "https://localhost:8080/"
        },
        "id": "9V1-c8i4O6PO",
        "outputId": "96bd8d14-e665-44f1-a42c-d394e4b173a5"
      },
      "execution_count": 26,
      "outputs": [
        {
          "output_type": "stream",
          "name": "stdout",
          "text": [
            "[]\n",
            "('Ayesha Noor', 'Quetta')\n"
          ]
        }
      ]
    },
    {
      "cell_type": "code",
      "source": [
        "# Sort all passengers by ticket_price in descending order\n",
        "sorted_passengers = data.sort_values(by = 'ticket_price', ascending=False)\n",
        "print(sorted_passengers)"
      ],
      "metadata": {
        "colab": {
          "base_uri": "https://localhost:8080/"
        },
        "id": "wfyDWz7nScH2",
        "outputId": "30b3539d-f7a6-409d-8425-c87f98302976"
      },
      "execution_count": 34,
      "outputs": [
        {
          "output_type": "stream",
          "name": "stdout",
          "text": [
            "   passenger_id            name  age gender destination  ticket_price\n",
            "14         P015     Ayesha Noor   33      M      Quetta         19950\n",
            "16         P017    Ahmed Nadeem   28      M      Lahore         19780\n",
            "22         P023    Ahmed Nadeem   34      M    Peshawar         19636\n",
            "36         P037      Sana Javed   37      F      Quetta         19157\n",
            "10         P011      Taha Kamal   38      F   Islamabad         18764\n",
            "9          P010     Sarah Malik   48      F   Islamabad         18658\n",
            "39         P040     Bilal Aslam   40      F      Quetta         18635\n",
            "8          P009    Zainab Tariq   49      F      Quetta         18625\n",
            "2          P003     Rehan Ahmed   24      M      Quetta         18227\n",
            "3          P004        Ali Khan   32      M      Lahore         18130\n",
            "41         P042   Fatima Hassan   24      F      Lahore         17680\n",
            "1          P002    Nimra Shahid   57      M      Lahore         17048\n",
            "45         P046     Bilal Aslam   59      F     Karachi         16730\n",
            "49         P050      Mariam Ali   28      F     Karachi         16557\n",
            "17         P018     Hamza Tariq   43      F      Quetta         16195\n",
            "25         P026  Danish Qureshi   54      M   Islamabad         16013\n",
            "0          P001     Usman Rafiq   23      F     Karachi         15677\n",
            "44         P045      Sana Javed   53      M    Peshawar         15547\n",
            "40         P041     Zara Sheikh   57      F    Peshawar         15537\n",
            "21         P022     Ayesha Noor   40      F    Peshawar         15119\n",
            "7          P008     Rehan Ahmed   48      M      Lahore         14950\n",
            "28         P029        Ali Khan   30      F      Lahore         14906\n",
            "38         P039    Nimra Shahid   53      F      Quetta         14764\n",
            "35         P036    Zainab Tariq   38      F   Islamabad         14565\n",
            "32         P033      Taha Kamal   42      F      Quetta         14491\n",
            "4          P005    Laiba Yousuf   25      F      Lahore         14286\n",
            "6          P007       Hiba Noor   19      M      Lahore         14263\n",
            "24         P025    Zainab Tariq   54      M    Peshawar         14256\n",
            "31         P032    Zainab Tariq   36      F      Quetta         14157\n",
            "18         P019    Nimra Shahid   21      M   Islamabad         13990\n",
            "33         P034    Zainab Tariq   38      M      Quetta         13896\n",
            "23         P024     Ayesha Noor   39      F     Karachi         13170\n",
            "26         P027     Usman Rafiq   40      F     Karachi         13100\n",
            "13         P014     Bilal Aslam   35      F   Islamabad         13098\n",
            "12         P013        Ali Khan   44      M   Islamabad         13008\n",
            "37         P038        Ali Khan   49      F      Lahore         12729\n",
            "20         P021      Mariam Ali   28      M   Islamabad         12557\n",
            "43         P044     Hamza Tariq   48      M      Lahore         12424\n",
            "29         P030      Taha Kamal   39      F     Karachi         12178\n",
            "46         P047      Mariam Ali   41      F     Karachi         12060\n",
            "47         P048     Usman Rafiq   44      F    Peshawar         11990\n",
            "15         P016   Fatima Hassan   59      F      Quetta         11872\n",
            "34         P035    Laiba Yousuf   55      M     Karachi         11739\n",
            "19         P020      Sana Javed   46      M    Peshawar         11733\n",
            "5          P006    Nimra Shahid   33      M      Lahore         11251\n",
            "48         P049   Fatima Hassan   37      M      Quetta         11219\n",
            "42         P043       Hiba Noor   49      M     Karachi         11060\n",
            "11         P012   Fatima Hassan   59      F   Islamabad         10916\n",
            "27         P028      Iqra Ahmed   24      F     Karachi         10337\n",
            "30         P031     Bilal Aslam   26      M      Lahore         10121\n"
          ]
        }
      ]
    },
    {
      "cell_type": "code",
      "source": [
        "top_3_passengers = sorted_passengers.head(3)      # Head use for access number of row\n",
        "print(top_3_passengers[['name', 'age', 'ticket_price']])"
      ],
      "metadata": {
        "colab": {
          "base_uri": "https://localhost:8080/"
        },
        "id": "kzIfAtN8TbJe",
        "outputId": "926df439-f157-41a9-d0a3-77a7f7d9daed"
      },
      "execution_count": 32,
      "outputs": [
        {
          "output_type": "stream",
          "name": "stdout",
          "text": [
            "            name  age  ticket_price\n",
            "14   Ayesha Noor   33         19950\n",
            "16  Ahmed Nadeem   28         19780\n",
            "22  Ahmed Nadeem   34         19636\n"
          ]
        }
      ]
    },
    {
      "cell_type": "code",
      "source": [
        "# age threshold, and display how many passengers are younger than that age\n",
        "age_threshold = int(input(\"Enter an age threshold: \"))\n",
        "younger_passengers = data[data['age'] < age_threshold]\n",
        "print(f\"{len(younger_passengers)} passengers are younger than {age_threshold} years old.\")"
      ],
      "metadata": {
        "colab": {
          "base_uri": "https://localhost:8080/"
        },
        "id": "CfVDslyMUCzm",
        "outputId": "86a26db6-7ff6-4230-f916-1b21b271e43e"
      },
      "execution_count": 33,
      "outputs": [
        {
          "output_type": "stream",
          "name": "stdout",
          "text": [
            "Enter an age threshold: 4\n",
            "0 passengers are younger than 4 years old.\n"
          ]
        }
      ]
    }
  ]
}